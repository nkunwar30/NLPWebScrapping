{
 "cells": [
  {
   "cell_type": "code",
   "execution_count": 145,
   "id": "01898131",
   "metadata": {},
   "outputs": [],
   "source": [
    "from bs4 import BeautifulSoup as bs"
   ]
  },
  {
   "cell_type": "code",
   "execution_count": 146,
   "id": "3a4fff4b",
   "metadata": {},
   "outputs": [],
   "source": [
    "import requests\n",
    "import time"
   ]
  },
  {
   "cell_type": "code",
   "execution_count": 147,
   "id": "f6ec60e5",
   "metadata": {},
   "outputs": [],
   "source": [
    "from selenium import webdriver\n",
    "from selenium.webdriver.chrome.service import Service"
   ]
  },
  {
   "cell_type": "code",
   "execution_count": 224,
   "id": "2d51cb21",
   "metadata": {},
   "outputs": [],
   "source": [
    "import pandas as pd"
   ]
  },
  {
   "cell_type": "code",
   "execution_count": 154,
   "id": "2b556023",
   "metadata": {},
   "outputs": [],
   "source": [
    "s = Service(\"E:/Niraj/Niraj Personal/Selenium/chromedriver.exe\")"
   ]
  },
  {
   "cell_type": "code",
   "execution_count": 202,
   "id": "581c0ee9",
   "metadata": {},
   "outputs": [],
   "source": [
    "url=\"https://www.naukri.com/data-science-jobs\""
   ]
  },
  {
   "cell_type": "code",
   "execution_count": 293,
   "id": "70c5f7ea",
   "metadata": {},
   "outputs": [],
   "source": [
    "def page_html_read(url,s):\n",
    "    print(url)\n",
    "    driver = webdriver.Chrome(service=s)\n",
    "    driver.get(url)\n",
    "    time.sleep(3)\n",
    "    soup=bs(driver.page_source,'html5lib')\n",
    "    driver.close()\n",
    "    return(soup)"
   ]
  },
  {
   "cell_type": "code",
   "execution_count": 188,
   "id": "3cfc4dc5",
   "metadata": {},
   "outputs": [],
   "source": [
    "#print(soup.prettify)"
   ]
  },
  {
   "cell_type": "code",
   "execution_count": null,
   "id": "6b511acb",
   "metadata": {},
   "outputs": [],
   "source": [
    "div_result"
   ]
  },
  {
   "cell_type": "code",
   "execution_count": 240,
   "id": "7597a2dd",
   "metadata": {},
   "outputs": [],
   "source": [
    "columns=['Title','URL','Org','Star','Reviews','Exp','Location','Skills']"
   ]
  },
  {
   "cell_type": "code",
   "execution_count": 268,
   "id": "c1b8ef8a",
   "metadata": {},
   "outputs": [],
   "source": [
    "df=pd.DataFrame(columns=columns)"
   ]
  },
  {
   "cell_type": "code",
   "execution_count": 295,
   "id": "f11fe80a",
   "metadata": {},
   "outputs": [
    {
     "name": "stdout",
     "output_type": "stream",
     "text": [
      "https://www.naukri.com/data-science-jobs-1\n",
      "https://www.naukri.com/data-science-jobs-2\n",
      "https://www.naukri.com/data-science-jobs-3\n",
      "https://www.naukri.com/data-science-jobs-4\n",
      "https://www.naukri.com/data-science-jobs-5\n",
      "https://www.naukri.com/data-science-jobs-6\n",
      "https://www.naukri.com/data-science-jobs-7\n",
      "https://www.naukri.com/data-science-jobs-8\n",
      "https://www.naukri.com/data-science-jobs-9\n",
      "https://www.naukri.com/data-science-jobs-10\n"
     ]
    }
   ],
   "source": [
    "url=\"https://www.naukri.com/data-science-jobs\"\n",
    "df=pd.DataFrame(columns=columns)\n",
    "line=1\n",
    "page_count=1\n",
    "while page_count <= 10:\n",
    "    soup=page_html_read(url+'-'+str(page_count),s)\n",
    "    page_result=soup.find(class_='list')\n",
    "    for job_block in page_result.find_all('article',class_='jobTuple bgWhite br4 mb-8'):\n",
    "        ttl=job_block.find('a',class_='title fw500 ellipsis').text\n",
    "        url_job=job_block.find('a',class_='title fw500 ellipsis').attrs['href']\n",
    "        org=job_block.find('a',class_='subTitle ellipsis fleft').text\n",
    "        star=job_block.find('span',class_='starRating fleft dot')\n",
    "        if star is not None:\n",
    "            star=star.text\n",
    "        reviews=job_block.find('a',class_='reviewsCount ml-5 fleft blue-text')\n",
    "        if reviews is not None:\n",
    "            reviews=reviews.text.split()[0][1:]\n",
    "        exp=job_block.find('li',class_='fleft grey-text br2 placeHolderLi experience')\n",
    "        if exp is not None:\n",
    "            exp=exp.text\n",
    "        locn=job_block.find('li',class_='fleft grey-text br2 placeHolderLi location')\n",
    "        if locn is not None:\n",
    "            locn=locn.text\n",
    "        skills=job_block.find('ul',class_='tags has-description').text\n",
    "        list=[ttl,url_job,org,star,reviews,exp,locn,skills]\n",
    "        #print(line,list)\n",
    "        #line+=1\n",
    "        df.loc[len(df)]=list\n",
    "    page_count+=1"
   ]
  },
  {
   "cell_type": "code",
   "execution_count": 297,
   "id": "1743dcda",
   "metadata": {},
   "outputs": [
    {
     "data": {
      "text/html": [
       "<div>\n",
       "<style scoped>\n",
       "    .dataframe tbody tr th:only-of-type {\n",
       "        vertical-align: middle;\n",
       "    }\n",
       "\n",
       "    .dataframe tbody tr th {\n",
       "        vertical-align: top;\n",
       "    }\n",
       "\n",
       "    .dataframe thead th {\n",
       "        text-align: right;\n",
       "    }\n",
       "</style>\n",
       "<table border=\"1\" class=\"dataframe\">\n",
       "  <thead>\n",
       "    <tr style=\"text-align: right;\">\n",
       "      <th></th>\n",
       "      <th>Title</th>\n",
       "      <th>URL</th>\n",
       "      <th>Org</th>\n",
       "      <th>Star</th>\n",
       "      <th>Reviews</th>\n",
       "      <th>Exp</th>\n",
       "      <th>Location</th>\n",
       "      <th>Skills</th>\n",
       "    </tr>\n",
       "  </thead>\n",
       "  <tbody>\n",
       "    <tr>\n",
       "      <th>0</th>\n",
       "      <td>P&amp;A/DAS - Core Data Science - Senior Analyst</td>\n",
       "      <td>https://www.naukri.com/job-listings-p-a-das-co...</td>\n",
       "      <td>Accenture</td>\n",
       "      <td>4.0</td>\n",
       "      <td>20601</td>\n",
       "      <td>2-7 Yrs</td>\n",
       "      <td>Bangalore/Bengaluru</td>\n",
       "      <td>Data ScienceFinancepresentation skillsIT Skill...</td>\n",
       "    </tr>\n",
       "    <tr>\n",
       "      <th>1</th>\n",
       "      <td>Data Science Sr Advisor</td>\n",
       "      <td>https://www.naukri.com/job-listings-data-scien...</td>\n",
       "      <td>Dell International Services India  Private Lim...</td>\n",
       "      <td>4.1</td>\n",
       "      <td>1946</td>\n",
       "      <td>12-18 Yrs</td>\n",
       "      <td>Bangalore/Bengaluru</td>\n",
       "      <td>IT SkillsPythonData ScienceMachine LearningBig...</td>\n",
       "    </tr>\n",
       "    <tr>\n",
       "      <th>2</th>\n",
       "      <td>Sr. Analyst Advanced Analytics and Data Science</td>\n",
       "      <td>https://www.naukri.com/job-listings-sr-analyst...</td>\n",
       "      <td>Kennametal</td>\n",
       "      <td>4.0</td>\n",
       "      <td>164</td>\n",
       "      <td>5-8 Yrs</td>\n",
       "      <td>Bangalore/Bengaluru</td>\n",
       "      <td>Data SciencePredictive ModelingRData Scientist...</td>\n",
       "    </tr>\n",
       "    <tr>\n",
       "      <th>3</th>\n",
       "      <td>Data Science Advisor</td>\n",
       "      <td>https://www.naukri.com/job-listings-data-scien...</td>\n",
       "      <td>Dell International Services India  Private Lim...</td>\n",
       "      <td>4.1</td>\n",
       "      <td>1946</td>\n",
       "      <td>5-8 Yrs</td>\n",
       "      <td>Bangalore/Bengaluru</td>\n",
       "      <td>IT SkillsPythonData ScienceBig DataTableauRC++C</td>\n",
       "    </tr>\n",
       "    <tr>\n",
       "      <th>4</th>\n",
       "      <td>Data Science Advisor</td>\n",
       "      <td>https://www.naukri.com/job-listings-data-scien...</td>\n",
       "      <td>Dell International Services India  Private Lim...</td>\n",
       "      <td>4.1</td>\n",
       "      <td>1946</td>\n",
       "      <td>6-11 Yrs</td>\n",
       "      <td>Bangalore/Bengaluru</td>\n",
       "      <td>Data Sciencecustomer analyticsfinancial servic...</td>\n",
       "    </tr>\n",
       "  </tbody>\n",
       "</table>\n",
       "</div>"
      ],
      "text/plain": [
       "                                             Title  \\\n",
       "0     P&A/DAS - Core Data Science - Senior Analyst   \n",
       "1                          Data Science Sr Advisor   \n",
       "2  Sr. Analyst Advanced Analytics and Data Science   \n",
       "3                             Data Science Advisor   \n",
       "4                             Data Science Advisor   \n",
       "\n",
       "                                                 URL  \\\n",
       "0  https://www.naukri.com/job-listings-p-a-das-co...   \n",
       "1  https://www.naukri.com/job-listings-data-scien...   \n",
       "2  https://www.naukri.com/job-listings-sr-analyst...   \n",
       "3  https://www.naukri.com/job-listings-data-scien...   \n",
       "4  https://www.naukri.com/job-listings-data-scien...   \n",
       "\n",
       "                                                 Org Star Reviews        Exp  \\\n",
       "0                                          Accenture  4.0   20601    2-7 Yrs   \n",
       "1  Dell International Services India  Private Lim...  4.1    1946  12-18 Yrs   \n",
       "2                                         Kennametal  4.0     164    5-8 Yrs   \n",
       "3  Dell International Services India  Private Lim...  4.1    1946    5-8 Yrs   \n",
       "4  Dell International Services India  Private Lim...  4.1    1946   6-11 Yrs   \n",
       "\n",
       "              Location                                             Skills  \n",
       "0  Bangalore/Bengaluru  Data ScienceFinancepresentation skillsIT Skill...  \n",
       "1  Bangalore/Bengaluru  IT SkillsPythonData ScienceMachine LearningBig...  \n",
       "2  Bangalore/Bengaluru  Data SciencePredictive ModelingRData Scientist...  \n",
       "3  Bangalore/Bengaluru    IT SkillsPythonData ScienceBig DataTableauRC++C  \n",
       "4  Bangalore/Bengaluru  Data Sciencecustomer analyticsfinancial servic...  "
      ]
     },
     "execution_count": 297,
     "metadata": {},
     "output_type": "execute_result"
    }
   ],
   "source": [
    "df.head()"
   ]
  },
  {
   "cell_type": "code",
   "execution_count": 300,
   "id": "779b1bda",
   "metadata": {},
   "outputs": [],
   "source": [
    "df.to_excel(\"ScrappedFile.xlsx\")"
   ]
  }
 ],
 "metadata": {
  "kernelspec": {
   "display_name": "Python 3",
   "language": "python",
   "name": "python3"
  },
  "language_info": {
   "codemirror_mode": {
    "name": "ipython",
    "version": 3
   },
   "file_extension": ".py",
   "mimetype": "text/x-python",
   "name": "python",
   "nbconvert_exporter": "python",
   "pygments_lexer": "ipython3",
   "version": "3.8.8"
  }
 },
 "nbformat": 4,
 "nbformat_minor": 5
}
